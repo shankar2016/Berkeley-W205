{
 "cells": [
  {
   "cell_type": "code",
   "execution_count": 1,
   "metadata": {
    "collapsed": false
   },
   "outputs": [],
   "source": [
    "import numpy as np\n",
    "from matplotlib import pyplot as plt\n",
    "\n",
    "words = [\"the\", \"to\", \"a\", \"I\", \"you\", \"of\", \"and\", \"in\", \"for\", \"is\", \"on\", \"me\", \"with\", \"that\", \"this\", \"my\", \"the\", \"it\", \"at\", \"be\"]\n",
    "count = [2866, 1886, 1866, 1597, 1582, 1117, 1026, 931, 917, 781, 595, 509, 495, 488, 484, 482, 464, 425, 425, 419]\n",
    "\n",
    "fig = plt.figure()\n",
    "\n",
    "width = 0.5\n",
    "ind = np.arange(len(count))\n",
    "plt.bar(ind, count, width=width)\n",
    "plt.xticks(ind + width / 2, words)\n",
    "\n",
    "fig.autofmt_xdate()\n",
    "plt.title(\"Histogram of Words\")\n",
    "plt.xlabel(\"Words\")\n",
    "plt.ylabel(\"Count\")\n",
    "\n",
    "plt.savefig(\"figure.pdf\")"
   ]
  },
  {
   "cell_type": "code",
   "execution_count": null,
   "metadata": {
    "collapsed": true
   },
   "outputs": [],
   "source": []
  }
 ],
 "metadata": {
  "anaconda-cloud": {},
  "kernelspec": {
   "display_name": "Python [Root]",
   "language": "python",
   "name": "Python [Root]"
  },
  "language_info": {
   "codemirror_mode": {
    "name": "ipython",
    "version": 3
   },
   "file_extension": ".py",
   "mimetype": "text/x-python",
   "name": "python",
   "nbconvert_exporter": "python",
   "pygments_lexer": "ipython3",
   "version": "3.5.2"
  }
 },
 "nbformat": 4,
 "nbformat_minor": 0
}
